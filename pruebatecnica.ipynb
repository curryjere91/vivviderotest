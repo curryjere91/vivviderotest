{
 "cells": [
  {
   "cell_type": "code",
   "execution_count": 1,
   "metadata": {},
   "outputs": [],
   "source": [
    "import psycopg\n",
    "import pandas as pd"
   ]
  },
  {
   "cell_type": "code",
   "execution_count": 2,
   "metadata": {},
   "outputs": [],
   "source": [
    "# Cargar el CSV en un dataframe\n",
    "csv_path = 'Online Sales Data.csv'\n",
    "df = pd.read_csv(csv_path)"
   ]
  },
  {
   "cell_type": "code",
   "execution_count": 3,
   "metadata": {},
   "outputs": [],
   "source": [
    "# Transformación: Calcular el precio total si no está presente\n",
    "if 'Total Revenue' not in df.columns:\n",
    "    df['Total Revenue'] = df['Units Sold'] * df['Unit Price']"
   ]
  },
  {
   "cell_type": "code",
   "execution_count": null,
   "metadata": {},
   "outputs": [],
   "source": []
  },
  {
   "cell_type": "code",
   "execution_count": 6,
   "metadata": {},
   "outputs": [],
   "source": [
    "# Renombrar columnas para coincidir con las columnas de la tabla en PostgreSQL\n",
    "df.rename(columns={\n",
    "    'Transaction ID': 'TransactionID',\n",
    "    'Date': 'Date',\n",
    "    'Product Category': 'ProductCategory',\n",
    "    'Product Name': 'ProductName',\n",
    "    'Units Sold': 'UnitsSold',\n",
    "    'Unit Price': 'UnitPrice',\n",
    "    'Total Revenue': 'TotalRevenue',\n",
    "    'Region': 'Region',\n",
    "    'Payment Method': 'PaymentMethod'\n",
    "}, inplace=True)"
   ]
  },
  {
   "cell_type": "code",
   "execution_count": 9,
   "metadata": {},
   "outputs": [],
   "source": [
    "# Conexion con PostgreSQL\n",
    "conn = psycopg.connect(\n",
    "    host=\"localhost\",\n",
    "    dbname=\"dbtest\",\n",
    "    user=\"postgres\",\n",
    "    password=\"69420\",\n",
    "    port=5432\n",
    ")\n",
    "cursor = conn.cursor()\n"
   ]
  },
  {
   "cell_type": "code",
   "execution_count": 7,
   "metadata": {},
   "outputs": [],
   "source": [
    "# Crear la tabla si no existe\n",
    "create_table_query = '''\n",
    "CREATE TABLE IF NOT EXISTS SalesTransactions (\n",
    "    TransactionID INT PRIMARY KEY,\n",
    "    Date DATE NOT NULL,\n",
    "    ProductCategory VARCHAR(255) NOT NULL,\n",
    "    ProductName VARCHAR(255) NOT NULL,\n",
    "    UnitsSold INT NOT NULL,\n",
    "    UnitPrice DECIMAL(10, 2) NOT NULL,\n",
    "    TotalRevenue DECIMAL(10, 2) NOT NULL,\n",
    "    Region VARCHAR(255) NOT NULL,\n",
    "    PaymentMethod VARCHAR(50) NOT NULL\n",
    ");\n",
    "'''\n",
    "cursor.execute(create_table_query)\n",
    "conn.commit()\n"
   ]
  },
  {
   "cell_type": "code",
   "execution_count": 8,
   "metadata": {},
   "outputs": [],
   "source": [
    "# Insertar los datos en la tabla\n",
    "insert_query = '''\n",
    "INSERT INTO SalesTransactions (TransactionID, Date, ProductCategory, ProductName, UnitsSold, UnitPrice, TotalRevenue, Region, PaymentMethod)\n",
    "VALUES (%s, %s, %s, %s, %s, %s, %s, %s, %s)\n",
    "ON CONFLICT (TransactionID) DO NOTHING;\n",
    "'''\n",
    "\n",
    "# Insertar filas en la base de datos\n",
    "for index, row in df.iterrows():\n",
    "    cursor.execute(insert_query, (\n",
    "        row['TransactionID'],\n",
    "        row['Date'],\n",
    "        row['ProductCategory'],\n",
    "        row['ProductName'],\n",
    "        row['UnitsSold'],\n",
    "        row['UnitPrice'],\n",
    "        row['TotalRevenue'],\n",
    "        row['Region'],\n",
    "        row['PaymentMethod']\n",
    "    ))\n",
    "\n",
    "# Confirmar los cambios\n",
    "conn.commit()"
   ]
  },
  {
   "cell_type": "code",
   "execution_count": 12,
   "metadata": {},
   "outputs": [
    {
     "name": "stdout",
     "output_type": "stream",
     "text": [
      "ProductCategory\tRegion\tTotalSales\n",
      "Beauty Products\tEurope\t2621.90\n",
      "Books\tNorth America\t1861.93\n",
      "Clothing\tAsia\t8128.93\n",
      "Electronics\tNorth America\t34982.41\n",
      "Home Appliances\tEurope\t18646.16\n",
      "Sports\tAsia\t14326.52\n"
     ]
    }
   ],
   "source": [
    "#Query parte 2 Tarea 1:\n",
    "\n",
    "parte2_query1= '''\n",
    "SELECT \n",
    "    ProductCategory,\n",
    "    Region,\n",
    "    SUM(TotalRevenue) AS TotalSales\n",
    "FROM \n",
    "    SalesTransactions\n",
    "GROUP BY \n",
    "    ProductCategory, \n",
    "    Region\n",
    "ORDER BY \n",
    "    ProductCategory, \n",
    "    Region;\n",
    "'''\n",
    "\n",
    "cursor.execute(parte2_query1)\n",
    "conn.commit()\n",
    "\n",
    "# Obtener todos los resultados\n",
    "results = cursor.fetchall()\n",
    "\n",
    "# Imprimir los resultados\n",
    "print(\"ProductCategory\\tRegion\\tTotalSales\")\n",
    "for row in results:\n",
    "    print(f\"{row[0]}\\t{row[1]}\\t{row[2]}\")"
   ]
  },
  {
   "cell_type": "code",
   "execution_count": 16,
   "metadata": {},
   "outputs": [],
   "source": [
    "#  Cerrar la conexión\n",
    "cursor.close()\n",
    "conn.close()"
   ]
  }
 ],
 "metadata": {
  "kernelspec": {
   "display_name": "Python 3",
   "language": "python",
   "name": "python3"
  },
  "language_info": {
   "codemirror_mode": {
    "name": "ipython",
    "version": 3
   },
   "file_extension": ".py",
   "mimetype": "text/x-python",
   "name": "python",
   "nbconvert_exporter": "python",
   "pygments_lexer": "ipython3",
   "version": "3.11.1"
  }
 },
 "nbformat": 4,
 "nbformat_minor": 2
}
